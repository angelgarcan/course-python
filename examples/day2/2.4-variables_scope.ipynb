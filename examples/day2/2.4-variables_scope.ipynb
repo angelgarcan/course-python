{
 "cells": [
  {
   "cell_type": "markdown",
   "metadata": {},
   "source": [
    "# Python Variable Scope\n",
    "In Python, we can declare variables in three different scopes: local scope, global, and nonlocal scope.\n",
    "\n",
    "A variable scope specifies the region where we can access a variable. "
   ]
  },
  {
   "cell_type": "code",
   "execution_count": null,
   "metadata": {},
   "outputs": [],
   "source": [
    "print(dir(__builtins__))"
   ]
  },
  {
   "cell_type": "code",
   "execution_count": null,
   "metadata": {},
   "outputs": [],
   "source": [
    "var_global = \"Global\"  # Global namespace\n",
    "\n",
    "def outer_function():\n",
    "    var_enclosing = \"Enclosing\"  # Enclosing namespace\n",
    "\n",
    "    def inner_function():\n",
    "        var_local = \"Local\"  # Local namespace\n",
    "\n",
    "        # # modify global variable value \n",
    "        # global var_global\n",
    "        # var_global = \"New global\"\n",
    "\n",
    "        # # modify enclosing variable value \n",
    "        # nonlocal var_enclosing\n",
    "        # var_enclosing = \"New enclosing\"\n",
    "\n",
    "        print(f\"{var_global=}\")\n",
    "        print(f\"{var_enclosing=}\")\n",
    "        print(f\"{var_local=}\")\n",
    "\n",
    "    inner_function()\n",
    "\n",
    "outer_function()\n"
   ]
  },
  {
   "cell_type": "markdown",
   "metadata": {},
   "source": [
    "### Python Global Keyword\n",
    "In Python, the global keyword allows us to modify the variable outside of the current scope.\n",
    "\n",
    "It is used to create a global variable and make changes to the variable in a local context."
   ]
  },
  {
   "cell_type": "markdown",
   "metadata": {},
   "source": [
    "**Rules of global Keyword**  \n",
    "\n",
    "The basic rules for global keyword in Python are:\n",
    "\n",
    "- When we create a variable inside a function, it is local by default.\n",
    "- When we define a variable outside of a function, it is global by default. You don't have to use the global keyword.\n",
    "- We use the global keyword to modify (write to) a global variable inside a function.\n",
    "- Use of the global keyword outside a function has no effect."
   ]
  },
  {
   "cell_type": "markdown",
   "metadata": {},
   "source": [
    "### Python Nonlocal Variables\n",
    "In Python, the nonlocal keyword is used within nested functions to indicate that a variable is not local to the inner function, but rather belongs to an enclosing function’s scope.\n",
    "\n",
    "This allows you to modify a variable from the outer function within the nested function, while still keeping it distinct from global variables."
   ]
  }
 ],
 "metadata": {
  "kernelspec": {
   "display_name": "Python 3",
   "language": "python",
   "name": "python3"
  },
  "language_info": {
   "codemirror_mode": {
    "name": "ipython",
    "version": 3
   },
   "file_extension": ".py",
   "mimetype": "text/x-python",
   "name": "python",
   "nbconvert_exporter": "python",
   "pygments_lexer": "ipython3",
   "version": "3.12.4"
  }
 },
 "nbformat": 4,
 "nbformat_minor": 2
}
