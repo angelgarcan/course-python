{
 "cells": [
  {
   "cell_type": "markdown",
   "metadata": {},
   "source": [
    "# filter(), map(), and reduce() in Python\n",
    "These functions are commonly used in functional programming to process collections like lists. Let's explore each one:"
   ]
  },
  {
   "cell_type": "markdown",
   "metadata": {},
   "source": [
    "**map()**  \n",
    "  \n",
    "In this example, the lambda function squares each number, and map() applies this transformation to every element in the list. The result is a new list with the squared values."
   ]
  },
  {
   "cell_type": "code",
   "execution_count": null,
   "metadata": {},
   "outputs": [],
   "source": [
    "numbers = [1, 2, 3, 4]\n",
    "\n",
    "# Function to square each number\n",
    "squared_numbers = list(map(lambda x: x * x, numbers))\n",
    "\n",
    "print(squared_numbers)  # Output: [1, 4, 9, 16]"
   ]
  },
  {
   "cell_type": "markdown",
   "metadata": {},
   "source": [
    "**filter()**  \n",
    "  \n",
    "Here, the lambda function checks if a number is divisible by 2, and filter() keeps only the numbers that satisfy this condition. Simple and efficient!"
   ]
  },
  {
   "cell_type": "code",
   "execution_count": null,
   "metadata": {},
   "outputs": [],
   "source": [
    "numbers = [1, 2, 3, 4, 5, 6]\n",
    "\n",
    "even_numbers = list(filter(lambda x: x % 2 == 0, numbers))\n",
    "\n",
    "print(even_numbers)  # Output: [2, 4, 6]"
   ]
  },
  {
   "cell_type": "markdown",
   "metadata": {},
   "source": [
    "**reduce()**  \n",
    "  \n",
    "The reduce() function reduces a collection to a single value by applying a function cumulatively to the items. It’s often used for operations like summing a list or finding the product of all elements.\n",
    "\n",
    "Here, reduce() applies the lambda function cumulatively to each element in the list, multiplying them together to get the final result, which is 24."
   ]
  },
  {
   "cell_type": "code",
   "execution_count": null,
   "metadata": {},
   "outputs": [],
   "source": [
    "from functools import reduce # reduce is part of the module functools\n",
    "\n",
    "numbers = [1, 2, 3, 4]\n",
    "\n",
    "product = reduce(lambda x, y: x * y, numbers)\n",
    "\n",
    "print(product)  # Output: 24 (1 * 2 * 3 * 4)\n"
   ]
  },
  {
   "cell_type": "markdown",
   "metadata": {},
   "source": [
    "Here’s a more complex example using all three functions: filter(), map(), and reduce().\n",
    "\n",
    "Let’s assume we have a list of dictionaries representing different products in an online store. Each product has a name, price, and a category. We will:\n",
    "\n",
    "- Filter the products to get only the ones in the \"electronics\" category.\n",
    "- Map the filtered products to calculate their price after a 10% discount.\n",
    "- Reduce the prices to get the total amount for all discounted electronics."
   ]
  },
  {
   "cell_type": "code",
   "execution_count": null,
   "metadata": {},
   "outputs": [],
   "source": [
    "from functools import reduce\n",
    "\n",
    "# List of products with name, price, and category\n",
    "products = [\n",
    "    {\"name\": \"Laptop\", \"price\": 1000, \"category\": \"electronics\"},\n",
    "    {\"name\": \"Shirt\", \"price\": 50, \"category\": \"clothing\"},\n",
    "    {\"name\": \"Smartphone\", \"price\": 800, \"category\": \"electronics\"},\n",
    "    {\"name\": \"Blender\", \"price\": 150, \"category\": \"appliances\"},\n",
    "    {\"name\": \"Headphones\", \"price\": 200, \"category\": \"electronics\"},\n",
    "    {\"name\": \"Pants\", \"price\": 70, \"category\": \"clothing\"}\n",
    "]\n",
    "\n",
    "# Step 1: Filter the products to get only electronics\n",
    "electronics = list(filter(lambda product: product[\"category\"] == \"electronics\", products))\n",
    "\n",
    "# Step 2: Map the electronics to apply a 10% discount on their prices\n",
    "discounted_prices = list(map(lambda product: product[\"price\"] * 0.9, electronics))\n",
    "\n",
    "# Step 3: Reduce the discounted prices to get the total amount\n",
    "total_amount = reduce(lambda x, y: x + y, discounted_prices)\n",
    "\n",
    "# Output\n",
    "print(\"Electronics:\", electronics)\n",
    "print(\"Discounted Prices:\", discounted_prices)\n",
    "print(\"Total Amount for Discounted Electronics:\", total_amount)"
   ]
  },
  {
   "cell_type": "code",
   "execution_count": null,
   "metadata": {},
   "outputs": [],
   "source": [
    "# Chain filter, map, and reduce in one line\n",
    "total_amount_chained = reduce(\n",
    "    lambda x, y: x + y,\n",
    "    map(\n",
    "        lambda product: product[\"price\"] * 0.9,\n",
    "        filter(lambda product: product[\"category\"] == \"electronics\", products)\n",
    "    )\n",
    ")\n",
    "\n",
    "# Output\n",
    "print(\"Total Amount for Discounted Electronics (chained functions):\", total_amount_chained)"
   ]
  }
 ],
 "metadata": {
  "kernelspec": {
   "display_name": "Python 3",
   "language": "python",
   "name": "python3"
  },
  "language_info": {
   "codemirror_mode": {
    "name": "ipython",
    "version": 3
   },
   "file_extension": ".py",
   "mimetype": "text/x-python",
   "name": "python",
   "nbconvert_exporter": "python",
   "pygments_lexer": "ipython3",
   "version": "3.12.4"
  }
 },
 "nbformat": 4,
 "nbformat_minor": 2
}
