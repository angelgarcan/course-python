{
 "cells": [
  {
   "cell_type": "markdown",
   "metadata": {},
   "source": [
    "### Enums\n",
    "\n",
    "Important Concepts:\n",
    "* Enum Members: Each member of an enum is a constant with a unique name and a value.\n",
    "* Accessing Enum Members:\n",
    "    - You can access enum members by using EnumName.MEMBER or by value.\n",
    "    - Each member has two main properties:\n",
    "        - name: The name of the enum member.\n",
    "        - value: The value associated with the enum member.\n",
    "* Iteration: You can iterate through all members of an enum using a for loop.\n",
    "* Comparison: Enum members can be compared using identity (is) and equality (==).\n"
   ]
  },
  {
   "cell_type": "code",
   "execution_count": null,
   "metadata": {},
   "outputs": [],
   "source": [
    "from enum import Enum\n",
    "\n",
    "# Define an enumeration for days of the week\n",
    "class Day(Enum):\n",
    "    MONDAY = 1\n",
    "    TUESDAY = 2\n",
    "    WEDNESDAY = 3\n",
    "    THURSDAY = 4\n",
    "    FRIDAY = 5\n",
    "    SATURDAY = 6\n",
    "    SUNDAY = 7\n",
    "\n",
    "# Accessing enum members\n",
    "print(Day.MONDAY)        # Output: Day.MONDAY\n",
    "print(Day.MONDAY.name)   # Output: 'MONDAY'\n",
    "print(Day.MONDAY.value)  # Output: 1"
   ]
  },
  {
   "cell_type": "code",
   "execution_count": null,
   "metadata": {},
   "outputs": [],
   "source": [
    "# Iterating over enum members\n",
    "for day in Day:\n",
    "    print(day)\n"
   ]
  },
  {
   "cell_type": "code",
   "execution_count": null,
   "metadata": {},
   "outputs": [],
   "source": [
    "from enum import Enum\n",
    "\n",
    "class TrafficLight(Enum):\n",
    "    RED = 1\n",
    "    YELLOW = 2\n",
    "    GREEN = 3\n",
    "\n",
    "def check_light(light):\n",
    "    if light == TrafficLight.RED:\n",
    "        print(\"Stop!\")\n",
    "    elif light == TrafficLight.YELLOW:\n",
    "        print(\"Slow down!\")\n",
    "    elif light == TrafficLight.GREEN:\n",
    "        print(\"Go!\")\n",
    "\n",
    "check_light(TrafficLight.RED)\n",
    "check_light(TrafficLight(value=1))"
   ]
  },
  {
   "cell_type": "markdown",
   "metadata": {},
   "source": [
    "### Enum Characteristics:\n",
    "* Immutability: Once an enum is defined, its members cannot be changed.\n",
    "* Unique values: Enum members cannot have the same name or value.\n",
    "\n",
    "**Why Use Enums?**\n",
    "* Code clarity: Instead of using arbitrary values (like strings or numbers), enums allow you to use meaningful constants.\n",
    "* Preventing errors: Since enums are a fixed set of constants, you prevent accidental use of invalid values.\n",
    "  \n",
    "Enums are particularly useful when you have a limited set of options or categories and want to ensure consistency across your code."
   ]
  }
 ],
 "metadata": {
  "kernelspec": {
   "display_name": "Python 3",
   "language": "python",
   "name": "python3"
  },
  "language_info": {
   "codemirror_mode": {
    "name": "ipython",
    "version": 3
   },
   "file_extension": ".py",
   "mimetype": "text/x-python",
   "name": "python",
   "nbconvert_exporter": "python",
   "pygments_lexer": "ipython3",
   "version": "3.12.4"
  }
 },
 "nbformat": 4,
 "nbformat_minor": 2
}
