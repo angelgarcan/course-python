{
 "cells": [
  {
   "cell_type": "markdown",
   "metadata": {},
   "source": [
    "# Functions"
   ]
  },
  {
   "cell_type": "markdown",
   "metadata": {},
   "source": [
    "### Positional vs Keyword Arguments\n",
    "- **Positional arguments** are passed to a function in the correct positional order.\n",
    "- **Keyword arguments** are passed by explicitly stating the argument name, which can make code more readable."
   ]
  },
  {
   "cell_type": "code",
   "execution_count": 4,
   "metadata": {},
   "outputs": [],
   "source": [
    "def greet(name, greeting=\"Hello\"): # Default vale \"Hello\"\n",
    "    print(f\"{greeting}, {name}!\")"
   ]
  },
  {
   "cell_type": "code",
   "execution_count": null,
   "metadata": {},
   "outputs": [],
   "source": [
    "# Using positional arguments\n",
    "greet(\"Ángel\")"
   ]
  },
  {
   "cell_type": "code",
   "execution_count": null,
   "metadata": {},
   "outputs": [],
   "source": [
    "# Using keyword arguments\n",
    "greet(name=\"Ángel\", greeting=\"What’s up\")"
   ]
  },
  {
   "cell_type": "markdown",
   "metadata": {},
   "source": [
    "### Positional Variable Arguments (*args) and Keyword Variable Arguments (**kwargs)\n",
    "- *args allows you to pass a variable number of positional arguments to a function.\n",
    "- **kwargs allows you to pass a variable number of keyword arguments."
   ]
  },
  {
   "cell_type": "code",
   "execution_count": 7,
   "metadata": {},
   "outputs": [],
   "source": [
    "def my_function(*args, **kwargs):\n",
    "    print(\"Positional arguments:\", args)\n",
    "    print(\"Keyword arguments:\", kwargs)"
   ]
  },
  {
   "cell_type": "code",
   "execution_count": null,
   "metadata": {},
   "outputs": [],
   "source": [
    "# Using *args for multiple positional arguments\n",
    "my_function(1, 2, 3)  # Output: Positional arguments: (1, 2, 3)"
   ]
  },
  {
   "cell_type": "code",
   "execution_count": null,
   "metadata": {},
   "outputs": [],
   "source": [
    "# Using **kwargs for multiple keyword arguments\n",
    "my_function(name=\"Ángel\", age=37)  # Output: Keyword arguments: {'name': 'Ángel', 'age': 37}"
   ]
  },
  {
   "cell_type": "code",
   "execution_count": null,
   "metadata": {},
   "outputs": [],
   "source": [
    "# Mixing both\n",
    "my_function(1, 2, name=\"Ángel\", age=37)\n",
    "# Output:\n",
    "# Positional arguments: (1, 2)\n",
    "# Keyword arguments: {'name': 'Ángel', 'age': 30}"
   ]
  },
  {
   "cell_type": "markdown",
   "metadata": {},
   "source": [
    "### Built-in Functions"
   ]
  },
  {
   "cell_type": "code",
   "execution_count": null,
   "metadata": {},
   "outputs": [],
   "source": [
    "# 1. print(): Output something to the console\n",
    "print(\"Hello, world!\")  # Output: Hello, world!"
   ]
  },
  {
   "cell_type": "code",
   "execution_count": null,
   "metadata": {},
   "outputs": [],
   "source": [
    "# 2. len(): Get the length of an object (e.g., list, string)\n",
    "my_list = [1, 2, 3, 4]\n",
    "print(\"Length of list:\", len(my_list))  # Output: 4"
   ]
  },
  {
   "cell_type": "code",
   "execution_count": null,
   "metadata": {},
   "outputs": [],
   "source": [
    "# 3. type(): Get the type of an object\n",
    "print(\"Type of my_list:\", type(my_list))  # Output: <class 'list'>"
   ]
  },
  {
   "cell_type": "code",
   "execution_count": null,
   "metadata": {},
   "outputs": [],
   "source": [
    "# 4. int() and str(): Convert a value to an integer or a string\n",
    "num_str = \"123\"\n",
    "print(\"Converted to int:\", int(num_str))  # Output: 123\n",
    "num_int = 456\n",
    "print(\"Converted to string:\", str(num_int))  # Output: \"456\""
   ]
  },
  {
   "cell_type": "code",
   "execution_count": null,
   "metadata": {},
   "outputs": [],
   "source": [
    "\n",
    "# 5. sum(): Sum all elements in an iterable (e.g., list)\n",
    "numbers = [1, 2, 3, 4, 5]\n",
    "print(\"Sum of numbers:\", sum(numbers))  # Output: 15\n"
   ]
  },
  {
   "cell_type": "code",
   "execution_count": null,
   "metadata": {},
   "outputs": [],
   "source": [
    "\n",
    "# 6. max() and min(): Get the maximum and minimum values from a list\n",
    "print(\"Max value:\", max(numbers))  # Output: 5\n",
    "print(\"Min value:\", min(numbers))  # Output: 1\n"
   ]
  },
  {
   "cell_type": "code",
   "execution_count": null,
   "metadata": {},
   "outputs": [],
   "source": [
    "# 7. abs(): Get the absolute value of a number\n",
    "negative_number = -10\n",
    "print(\"Absolute value:\", abs(negative_number))  # Output: 10"
   ]
  },
  {
   "cell_type": "code",
   "execution_count": null,
   "metadata": {},
   "outputs": [],
   "source": [
    "# 8. sorted(): Sort a list or other iterable\n",
    "unsorted_list = [3, 1, 4, 2]\n",
    "sorted_list = sorted(unsorted_list)\n",
    "print(\"Sorted list:\", sorted_list)  # Output: [1, 2, 3, 4]"
   ]
  },
  {
   "cell_type": "code",
   "execution_count": null,
   "metadata": {},
   "outputs": [],
   "source": [
    "# 9. range(): Generate a sequence of numbers\n",
    "print(\"Range from 0 to 4:\", list(range(5)))  # Output: [0, 1, 2, 3, 4]"
   ]
  },
  {
   "cell_type": "code",
   "execution_count": null,
   "metadata": {},
   "outputs": [],
   "source": [
    "# 10. help(): Get information about a built-in function or module\n",
    "print(\"Help on 'max':\")\n",
    "help(max)"
   ]
  },
  {
   "cell_type": "code",
   "execution_count": null,
   "metadata": {},
   "outputs": [],
   "source": [
    "# 11. round(): Round a floating point number\n",
    "pi = 3.14159\n",
    "print(\"Rounded value of pi:\", round(pi, 2))  # Output: 3.14"
   ]
  },
  {
   "cell_type": "markdown",
   "metadata": {},
   "source": [
    "### Lambda Functions\n",
    "A lambda function is a small anonymous function in Python, defined using the lambda keyword. It’s useful for simple operations that you don’t want to define with a full def block"
   ]
  },
  {
   "cell_type": "code",
   "execution_count": 17,
   "metadata": {},
   "outputs": [],
   "source": [
    "# Regular function\n",
    "def square(x):\n",
    "    return x * x"
   ]
  },
  {
   "cell_type": "code",
   "execution_count": 30,
   "metadata": {},
   "outputs": [],
   "source": [
    "# Lambda function for squaring a number\n",
    "square_lambda = lambda x: x * x"
   ]
  },
  {
   "cell_type": "code",
   "execution_count": null,
   "metadata": {},
   "outputs": [],
   "source": [
    "# Both produce the same result\n",
    "print(square(5))  # Output: 25\n",
    "print(square_lambda(5))  # Output: 25"
   ]
  },
  {
   "cell_type": "code",
   "execution_count": null,
   "metadata": {},
   "outputs": [],
   "source": [
    "# Lambda in combination with other functions (e.g., sorted)\n",
    "pairs = [(1, 'one'), (2, 'two'), (3, 'three')]\n",
    "sorted_pairs = sorted(pairs, key=lambda pair: pair[1])\n",
    "print(sorted_pairs)  # Output: [(1, 'one'), (3, 'three'), (2, 'two')]"
   ]
  }
 ],
 "metadata": {
  "kernelspec": {
   "display_name": "Python 3",
   "language": "python",
   "name": "python3"
  },
  "language_info": {
   "codemirror_mode": {
    "name": "ipython",
    "version": 3
   },
   "file_extension": ".py",
   "mimetype": "text/x-python",
   "name": "python",
   "nbconvert_exporter": "python",
   "pygments_lexer": "ipython3",
   "version": "3.12.4"
  }
 },
 "nbformat": 4,
 "nbformat_minor": 2
}
