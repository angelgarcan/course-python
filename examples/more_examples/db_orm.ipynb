{
 "cells": [
  {
   "cell_type": "code",
   "execution_count": null,
   "metadata": {},
   "outputs": [],
   "source": [
    "import sqlalchemy\n",
    "\n",
    "database_host = ''\n",
    "database_user = ''\n",
    "database_password = ''\n",
    "database_name = ''\n",
    "database_port = 0000"
   ]
  },
  {
   "cell_type": "code",
   "execution_count": null,
   "metadata": {},
   "outputs": [],
   "source": [
    "engine = sqlalchemy.create_engine(f'postgresql://{database_user}:{database_password}@{database_host}:{database_port}/{database_name}')\n",
    "connection = engine.connect()"
   ]
  },
  {
   "cell_type": "code",
   "execution_count": null,
   "metadata": {},
   "outputs": [],
   "source": [
    "students = connection.execute('SELECT * FROM students;')\n",
    "students.all()"
   ]
  },
  {
   "cell_type": "code",
   "execution_count": null,
   "metadata": {},
   "outputs": [],
   "source": [
    "db_metadata = sqlalchemy.MetaData()"
   ]
  },
  {
   "cell_type": "code",
   "execution_count": null,
   "metadata": {},
   "outputs": [],
   "source": [
    "students_table = sqlalchemy.Table('students', db_metadata, autoload_with=engine)\n",
    "students_table.columns.keys()"
   ]
  },
  {
   "cell_type": "code",
   "execution_count": null,
   "metadata": {},
   "outputs": [],
   "source": [
    "query = sqlalchemy.select(students_table)\n",
    "students = connection.execute(query)\n",
    "students.all()"
   ]
  },
  {
   "cell_type": "code",
   "execution_count": null,
   "metadata": {},
   "outputs": [],
   "source": [
    "query = sqlalchemy.insert(students_table).values(name='Maria', lastname='Gomez', age=28)\n",
    "connection.execute(query)"
   ]
  },
  {
   "cell_type": "code",
   "execution_count": null,
   "metadata": {},
   "outputs": [],
   "source": [
    "query = sqlalchemy.update(students_table).where(students_table.c.name=='Maria').values(age=22)\n",
    "connection.execute(query)"
   ]
  },
  {
   "cell_type": "code",
   "execution_count": null,
   "metadata": {},
   "outputs": [],
   "source": [
    "query = sqlalchemy.delete(students_table).where(students_table.c.name=='Pedro')\n",
    "connection.execute(query)"
   ]
  },
  {
   "cell_type": "code",
   "execution_count": null,
   "metadata": {},
   "outputs": [],
   "source": [
    "topics_table = sqlalchemy.Table('topics', \n",
    "    db_metadata, \n",
    "    sqlalchemy.Column('name',sqlalchemy.VARCHAR(50), primary_key=True),\n",
    "    sqlalchemy.Column('credits',sqlalchemy.Integer),\n",
    "    extend_existing=True\n",
    ")\n",
    "\n",
    "db_metadata.create_all(engine)"
   ]
  },
  {
   "cell_type": "code",
   "execution_count": null,
   "metadata": {},
   "outputs": [],
   "source": [
    "connection.close()"
   ]
  },
  {
   "cell_type": "code",
   "execution_count": null,
   "metadata": {},
   "outputs": [],
   "source": [
    "engine.dispose()"
   ]
  }
 ],
 "metadata": {
  "interpreter": {
   "hash": "4d970986dd10ed968b1125154660ec0e23b73c7e4cc85993e567acedda8c7829"
  },
  "kernelspec": {
   "display_name": "Python 3.10.4 ('bunsan_course')",
   "language": "python",
   "name": "python3"
  },
  "language_info": {
   "codemirror_mode": {
    "name": "ipython",
    "version": 3
   },
   "file_extension": ".py",
   "mimetype": "text/x-python",
   "name": "python",
   "nbconvert_exporter": "python",
   "pygments_lexer": "ipython3",
   "version": "3.10.4"
  },
  "orig_nbformat": 4
 },
 "nbformat": 4,
 "nbformat_minor": 2
}
