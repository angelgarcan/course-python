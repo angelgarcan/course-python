{
 "cells": [
  {
   "cell_type": "code",
   "execution_count": null,
   "metadata": {},
   "outputs": [],
   "source": [
    "import psycopg2\n",
    "\n",
    "database_host = ''\n",
    "database_user = ''\n",
    "database_password = ''\n",
    "database_name = ''"
   ]
  },
  {
   "cell_type": "code",
   "execution_count": null,
   "metadata": {},
   "outputs": [],
   "source": [
    "connection = psycopg2.connect(\n",
    "    host=database_host, \n",
    "    user=database_user,\n",
    "    password=database_password,\n",
    "    database=database_name,\n",
    ")\n",
    "\n",
    "# region\n",
    "# cert (path to a .cert file)\n",
    "\n",
    "cursor = connection.cursor()"
   ]
  },
  {
   "cell_type": "code",
   "execution_count": null,
   "metadata": {},
   "outputs": [],
   "source": [
    "name = 'Pedro'\n",
    "lastname = 'Perez'\n",
    "age = 25\n",
    "\n",
    "query = \"INSERT INTO students(name, lastname, age) VALUES('{}','{}',{});\".format(name,lastname,age)\n",
    "cursor.execute(query)\n",
    "connection.commit()"
   ]
  },
  {
   "cell_type": "code",
   "execution_count": null,
   "metadata": {},
   "outputs": [],
   "source": [
    "name = 'Juan'\n",
    "lastname = 'Juarez'\n",
    "age = 26\n",
    "\n",
    "query = f\"INSERT INTO students(name, lastname, age) VALUES('{name}','{lastname}',{age});\"\n",
    "cursor.execute(query)\n",
    "connection.commit()"
   ]
  },
  {
   "cell_type": "code",
   "execution_count": null,
   "metadata": {},
   "outputs": [],
   "source": [
    "cursor.execute(\"SELECT * FROM students order by age;\")"
   ]
  },
  {
   "cell_type": "code",
   "execution_count": null,
   "metadata": {},
   "outputs": [],
   "source": [
    "one_student = cursor.fetchone()\n",
    "one_student"
   ]
  },
  {
   "cell_type": "code",
   "execution_count": null,
   "metadata": {},
   "outputs": [],
   "source": [
    "many_students = cursor.fetchmany()\n",
    "many_students"
   ]
  },
  {
   "cell_type": "code",
   "execution_count": null,
   "metadata": {},
   "outputs": [],
   "source": [
    "all_students = cursor.fetchall()\n",
    "all_students"
   ]
  },
  {
   "cell_type": "code",
   "execution_count": null,
   "metadata": {},
   "outputs": [],
   "source": [
    "cursor.close()\n",
    "connection.close()"
   ]
  }
 ],
 "metadata": {
  "interpreter": {
   "hash": "4d970986dd10ed968b1125154660ec0e23b73c7e4cc85993e567acedda8c7829"
  },
  "kernelspec": {
   "display_name": "Python 3.10.4 ('bunsan_course')",
   "language": "python",
   "name": "python3"
  },
  "language_info": {
   "codemirror_mode": {
    "name": "ipython",
    "version": 3
   },
   "file_extension": ".py",
   "mimetype": "text/x-python",
   "name": "python",
   "nbconvert_exporter": "python",
   "pygments_lexer": "ipython3",
   "version": "3.10.4"
  },
  "orig_nbformat": 4
 },
 "nbformat": 4,
 "nbformat_minor": 2
}
